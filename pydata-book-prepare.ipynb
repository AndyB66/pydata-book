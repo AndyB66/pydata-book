from google.colab import drive
drive.mount('/content/drive')
%cd /content/drive/MyDrive/Colab\ Notebooks
!git clone https://github.com/AndyB66/pydata-book
